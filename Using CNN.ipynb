{
 "cells": [
  {
   "cell_type": "code",
   "execution_count": 2,
   "metadata": {},
   "outputs": [],
   "source": [
    "import os\n",
    "import pandas as pd\n",
    "import numpy as np\n",
    "from glob import glob\n",
    "import matplotlib.pyplot as plt\n",
    "import librosa\n",
    "import librosa.display"
   ]
  },
  {
   "cell_type": "code",
   "execution_count": 2,
   "metadata": {},
   "outputs": [],
   "source": [
    "def create_spectrogram(filename, name):\n",
    "    plt.interactive(False)\n",
    "    clip, sample_rate = librosa.load(filename)\n",
    "    fig = plt.figure(figsize=[0.72, 0.72])\n",
    "    ax = fig.add_subplot(111)\n",
    "    ax.axes.get_xaxis().set_visible(False)\n",
    "    ax.axes.get_yaxis().set_visible(False)\n",
    "    ax.set_frame_on(False)\n",
    "    S = librosa.feature.melspectrogram(y=clip, sr=sample_rate)\n",
    "    librosa.display.specshow(librosa.power_to_db(S, ref=np.max))\n",
    "    filename = 'Spectrograms/Train/{}.jpg'.format(name)\n",
    "    plt.savefig(filename, dpi=400, bbox_inches='tight', pad_inches=0)\n",
    "    plt.close()\n",
    "    fig.clf()\n",
    "    plt.close(fig)\n",
    "    plt.close('all')\n",
    "    del filename, name, clip, sample_rate, fig, ax, S"
   ]
  },
  {
   "cell_type": "code",
   "execution_count": 3,
   "metadata": {},
   "outputs": [],
   "source": [
    "def create_spectrogram_test(filename, name):\n",
    "    plt.interactive(False)\n",
    "    clip, sample_rate = librosa.load(filename)\n",
    "    fig = plt.figure(figsize=[0.72, 0.72])\n",
    "    ax = fig.add_subplot(111)\n",
    "    ax.axes.get_xaxis().set_visible(False)\n",
    "    ax.axes.get_yaxis().set_visible(False)\n",
    "    ax.set_frame_on(False)\n",
    "    S = librosa.feature.melspectrogram(y=clip, sr=sample_rate)\n",
    "    librosa.display.specshow(librosa.power_to_db(S, ref=np.max))\n",
    "    filename = 'Spectrograms/Test/{}.jpg'.format(name)\n",
    "    plt.savefig(filename, dpi=400, bbox_inches='tight', pad_inches=0)\n",
    "    plt.close()\n",
    "    fig.clf()\n",
    "    plt.close(fig)\n",
    "    plt.close('all')\n",
    "    del filename, name, clip, sample_rate, fig, ax, S"
   ]
  },
  {
   "cell_type": "code",
   "execution_count": 4,
   "metadata": {},
   "outputs": [],
   "source": [
    "create_spectrogram('Dataset/Train/0.wav', '0')"
   ]
  },
  {
   "cell_type": "code",
   "execution_count": 11,
   "metadata": {},
   "outputs": [],
   "source": [
    "data = pd.read_csv('Dataset/train.csv')"
   ]
  },
  {
   "cell_type": "code",
   "execution_count": 6,
   "metadata": {},
   "outputs": [],
   "source": [
    "for i in data[:10].iterrows():\n",
    "    create_spectrogram('Dataset/Train/{}.wav'.format(i[1].ID), i[1].Class+str(i[1].ID))"
   ]
  },
  {
   "cell_type": "code",
   "execution_count": 5,
   "metadata": {},
   "outputs": [
    {
     "data": {
      "text/html": [
       "<div>\n",
       "<style scoped>\n",
       "    .dataframe tbody tr th:only-of-type {\n",
       "        vertical-align: middle;\n",
       "    }\n",
       "\n",
       "    .dataframe tbody tr th {\n",
       "        vertical-align: top;\n",
       "    }\n",
       "\n",
       "    .dataframe thead th {\n",
       "        text-align: right;\n",
       "    }\n",
       "</style>\n",
       "<table border=\"1\" class=\"dataframe\">\n",
       "  <thead>\n",
       "    <tr style=\"text-align: right;\">\n",
       "      <th></th>\n",
       "      <th>ID</th>\n",
       "      <th>Class</th>\n",
       "    </tr>\n",
       "  </thead>\n",
       "  <tbody>\n",
       "    <tr>\n",
       "      <th>1</th>\n",
       "      <td>1</td>\n",
       "      <td>street_music</td>\n",
       "    </tr>\n",
       "    <tr>\n",
       "      <th>6</th>\n",
       "      <td>10</td>\n",
       "      <td>street_music</td>\n",
       "    </tr>\n",
       "    <tr>\n",
       "      <th>23</th>\n",
       "      <td>38</td>\n",
       "      <td>street_music</td>\n",
       "    </tr>\n",
       "    <tr>\n",
       "      <th>42</th>\n",
       "      <td>65</td>\n",
       "      <td>street_music</td>\n",
       "    </tr>\n",
       "    <tr>\n",
       "      <th>47</th>\n",
       "      <td>72</td>\n",
       "      <td>street_music</td>\n",
       "    </tr>\n",
       "    <tr>\n",
       "      <th>48</th>\n",
       "      <td>74</td>\n",
       "      <td>street_music</td>\n",
       "    </tr>\n",
       "    <tr>\n",
       "      <th>55</th>\n",
       "      <td>82</td>\n",
       "      <td>street_music</td>\n",
       "    </tr>\n",
       "    <tr>\n",
       "      <th>57</th>\n",
       "      <td>84</td>\n",
       "      <td>street_music</td>\n",
       "    </tr>\n",
       "    <tr>\n",
       "      <th>63</th>\n",
       "      <td>93</td>\n",
       "      <td>street_music</td>\n",
       "    </tr>\n",
       "    <tr>\n",
       "      <th>70</th>\n",
       "      <td>105</td>\n",
       "      <td>street_music</td>\n",
       "    </tr>\n",
       "  </tbody>\n",
       "</table>\n",
       "</div>"
      ],
      "text/plain": [
       "     ID         Class\n",
       "1     1  street_music\n",
       "6    10  street_music\n",
       "23   38  street_music\n",
       "42   65  street_music\n",
       "47   72  street_music\n",
       "48   74  street_music\n",
       "55   82  street_music\n",
       "57   84  street_music\n",
       "63   93  street_music\n",
       "70  105  street_music"
      ]
     },
     "execution_count": 5,
     "metadata": {},
     "output_type": "execute_result"
    }
   ],
   "source": [
    "data[data['Class']==\"street_music\"][:10]"
   ]
  },
  {
   "cell_type": "code",
   "execution_count": null,
   "metadata": {},
   "outputs": [],
   "source": [
    "for j in data.Class.unique():\n",
    "    for i in data[data['Class']==j][:10].iterrows():\n",
    "        create_spectrogram('Dataset/Train/{}.wav'.format(i[1].ID), i[1].Class+str(i[1].ID))"
   ]
  },
  {
   "cell_type": "code",
   "execution_count": 6,
   "metadata": {},
   "outputs": [
    {
     "data": {
      "text/plain": [
       "array(['siren', 'street_music', 'drilling', 'dog_bark',\n",
       "       'children_playing', 'gun_shot', 'engine_idling', 'air_conditioner',\n",
       "       'jackhammer', 'car_horn'], dtype=object)"
      ]
     },
     "execution_count": 6,
     "metadata": {},
     "output_type": "execute_result"
    }
   ],
   "source": [
    "data.Class.unique()"
   ]
  },
  {
   "cell_type": "code",
   "execution_count": 7,
   "metadata": {},
   "outputs": [
    {
     "data": {
      "text/plain": [
       "<function numpy.amax(a, axis=None, out=None, keepdims=<no value>, initial=<no value>)>"
      ]
     },
     "execution_count": 7,
     "metadata": {},
     "output_type": "execute_result"
    }
   ],
   "source": [
    "np.max"
   ]
  },
  {
   "cell_type": "code",
   "execution_count": null,
   "metadata": {},
   "outputs": [],
   "source": [
    "for i in data.iterrows():\n",
    "    create_spectrogram('Dataset/Train/{}.wav'.format(i[1].ID), i[1].Class+str(i[1].ID))"
   ]
  },
  {
   "cell_type": "code",
   "execution_count": null,
   "metadata": {},
   "outputs": [],
   "source": [
    "for i in test_data.iterrows():\n",
    "    create_spectrogram_test('Dataset/Test/{}.wav'.format(i[1].ID), str(i[1].ID))"
   ]
  },
  {
   "cell_type": "code",
   "execution_count": 7,
   "metadata": {},
   "outputs": [],
   "source": [
    "test_data = pd.read_csv('Dataset/test.csv')"
   ]
  },
  {
   "cell_type": "code",
   "execution_count": 5,
   "metadata": {},
   "outputs": [],
   "source": [
    "from keras_preprocessing.image import ImageDataGenerator"
   ]
  },
  {
   "cell_type": "code",
   "execution_count": 12,
   "metadata": {},
   "outputs": [],
   "source": [
    "data.ID = data.ID.apply(lambda x: str(x))\n",
    "test_data.ID = test_data.ID.apply(lambda x: str(x))"
   ]
  },
  {
   "cell_type": "code",
   "execution_count": 13,
   "metadata": {},
   "outputs": [],
   "source": [
    "data['File'] = data.Class + data.ID + \".jpg\""
   ]
  },
  {
   "cell_type": "code",
   "execution_count": 14,
   "metadata": {},
   "outputs": [],
   "source": [
    "test_data['File'] = test_data.ID + \".jpg\""
   ]
  },
  {
   "cell_type": "code",
   "execution_count": 17,
   "metadata": {},
   "outputs": [
    {
     "name": "stdout",
     "output_type": "stream",
     "text": [
      "Found 4077 validated image filenames belonging to 10 classes.\n",
      "Found 1358 validated image filenames belonging to 10 classes.\n"
     ]
    }
   ],
   "source": [
    "datagen = ImageDataGenerator(rescale=1./255., validation_split=0.25)\n",
    "\n",
    "train_generator = datagen.flow_from_dataframe(dataframe=data, \n",
    "                                              directory='Spectrograms/Train/', \n",
    "                                              x_col=\"File\", \n",
    "                                              y_col=\"Class\", \n",
    "                                              subset='training', \n",
    "                                              batch_size=32, \n",
    "                                              seed=42, \n",
    "                                              shuffle=True, \n",
    "                                              class_mode='categorical', \n",
    "                                              target_size=(64, 64))\n",
    "\n",
    "valid_generator = datagen.flow_from_dataframe(dataframe=data, \n",
    "                                              directory='Spectrograms/Train/', \n",
    "                                              x_col='File', \n",
    "                                              y_col=\"Class\", \n",
    "                                              subset='validation', \n",
    "                                              batch_size=32, \n",
    "                                              seed=42, \n",
    "                                              shuffle=True, \n",
    "                                              class_mode='categorical', \n",
    "                                              target_size=(64, 64))"
   ]
  },
  {
   "cell_type": "code",
   "execution_count": 14,
   "metadata": {},
   "outputs": [
    {
     "name": "stderr",
     "output_type": "stream",
     "text": [
      "Using TensorFlow backend.\n"
     ]
    }
   ],
   "source": [
    "from keras.layers import Dense, Activation, Flatten, Dropout, BatchNormalization\n",
    "from keras.models import Sequential, Model\n",
    "from keras.layers import Conv2D, MaxPooling2D\n",
    "from keras import regularizers, optimizers"
   ]
  },
  {
   "cell_type": "code",
   "execution_count": 15,
   "metadata": {
    "scrolled": true
   },
   "outputs": [
    {
     "name": "stdout",
     "output_type": "stream",
     "text": [
      "WARNING:tensorflow:From /usr/lib64/python3.7/site-packages/keras/backend/tensorflow_backend.py:66: The name tf.get_default_graph is deprecated. Please use tf.compat.v1.get_default_graph instead.\n",
      "\n",
      "WARNING:tensorflow:From /usr/lib64/python3.7/site-packages/keras/backend/tensorflow_backend.py:541: The name tf.placeholder is deprecated. Please use tf.compat.v1.placeholder instead.\n",
      "\n",
      "WARNING:tensorflow:From /usr/lib64/python3.7/site-packages/keras/backend/tensorflow_backend.py:4432: The name tf.random_uniform is deprecated. Please use tf.random.uniform instead.\n",
      "\n",
      "WARNING:tensorflow:From /usr/lib64/python3.7/site-packages/keras/backend/tensorflow_backend.py:4267: The name tf.nn.max_pool is deprecated. Please use tf.nn.max_pool2d instead.\n",
      "\n",
      "WARNING:tensorflow:From /usr/lib64/python3.7/site-packages/keras/backend/tensorflow_backend.py:148: The name tf.placeholder_with_default is deprecated. Please use tf.compat.v1.placeholder_with_default instead.\n",
      "\n",
      "WARNING:tensorflow:From /usr/lib64/python3.7/site-packages/keras/backend/tensorflow_backend.py:3733: calling dropout (from tensorflow.python.ops.nn_ops) with keep_prob is deprecated and will be removed in a future version.\n",
      "Instructions for updating:\n",
      "Please use `rate` instead of `keep_prob`. Rate should be set to `rate = 1 - keep_prob`.\n",
      "WARNING:tensorflow:From /usr/lib64/python3.7/site-packages/keras/optimizers.py:793: The name tf.train.Optimizer is deprecated. Please use tf.compat.v1.train.Optimizer instead.\n",
      "\n",
      "WARNING:tensorflow:From /usr/lib64/python3.7/site-packages/keras/backend/tensorflow_backend.py:3576: The name tf.log is deprecated. Please use tf.math.log instead.\n",
      "\n",
      "Model: \"sequential_1\"\n",
      "_________________________________________________________________\n",
      "Layer (type)                 Output Shape              Param #   \n",
      "=================================================================\n",
      "conv2d_1 (Conv2D)            (None, 64, 64, 32)        896       \n",
      "_________________________________________________________________\n",
      "conv2d_2 (Conv2D)            (None, 62, 62, 64)        18496     \n",
      "_________________________________________________________________\n",
      "max_pooling2d_1 (MaxPooling2 (None, 31, 31, 64)        0         \n",
      "_________________________________________________________________\n",
      "dropout_1 (Dropout)          (None, 31, 31, 64)        0         \n",
      "_________________________________________________________________\n",
      "conv2d_3 (Conv2D)            (None, 31, 31, 64)        36928     \n",
      "_________________________________________________________________\n",
      "conv2d_4 (Conv2D)            (None, 29, 29, 64)        36928     \n",
      "_________________________________________________________________\n",
      "max_pooling2d_2 (MaxPooling2 (None, 14, 14, 64)        0         \n",
      "_________________________________________________________________\n",
      "dropout_2 (Dropout)          (None, 14, 14, 64)        0         \n",
      "_________________________________________________________________\n",
      "conv2d_5 (Conv2D)            (None, 14, 14, 128)       73856     \n",
      "_________________________________________________________________\n",
      "conv2d_6 (Conv2D)            (None, 12, 12, 128)       147584    \n",
      "_________________________________________________________________\n",
      "max_pooling2d_3 (MaxPooling2 (None, 6, 6, 128)         0         \n",
      "_________________________________________________________________\n",
      "dropout_3 (Dropout)          (None, 6, 6, 128)         0         \n",
      "_________________________________________________________________\n",
      "flatten_1 (Flatten)          (None, 4608)              0         \n",
      "_________________________________________________________________\n",
      "dense_1 (Dense)              (None, 512)               2359808   \n",
      "_________________________________________________________________\n",
      "dropout_4 (Dropout)          (None, 512)               0         \n",
      "_________________________________________________________________\n",
      "dense_2 (Dense)              (None, 10)                5130      \n",
      "=================================================================\n",
      "Total params: 2,679,626\n",
      "Trainable params: 2,679,626\n",
      "Non-trainable params: 0\n",
      "_________________________________________________________________\n"
     ]
    }
   ],
   "source": [
    "model = Sequential()\n",
    "\n",
    "model.add(Conv2D(filters=32, kernel_size=(3,3), padding='same', input_shape=(64, 64, 3), activation='relu'))\n",
    "\n",
    "model.add(Conv2D(filters=64, kernel_size=(3,3), activation='relu'))\n",
    "model.add(MaxPooling2D(pool_size=(2,2)))\n",
    "model.add(Dropout(0.25))\n",
    "\n",
    "model.add(Conv2D(filters=64, kernel_size=(3,3), padding='same', activation='relu'))\n",
    "\n",
    "model.add(Conv2D(filters=64, kernel_size=(3,3), activation='relu'))\n",
    "model.add(MaxPooling2D(pool_size=(2,2)))\n",
    "model.add(Dropout(0.5))\n",
    "\n",
    "model.add(Conv2D(filters=128, kernel_size=(3,3), padding='same', activation='relu'))\n",
    "\n",
    "model.add(Conv2D(filters=128, kernel_size=(3,3), activation='relu'))\n",
    "model.add(MaxPooling2D(pool_size=(2,2)))\n",
    "model.add(Dropout(0.5))\n",
    "\n",
    "model.add(Flatten())\n",
    "\n",
    "model.add(Dense(512, activation='relu'))\n",
    "model.add(Dropout(0.5))\n",
    "\n",
    "model.add(Dense(10, activation='softmax'))\n",
    "\n",
    "model.compile(optimizer='adam', loss=\"categorical_crossentropy\", metrics=['accuracy'])\n",
    "\n",
    "model.summary()"
   ]
  },
  {
   "cell_type": "code",
   "execution_count": 16,
   "metadata": {
    "scrolled": true
   },
   "outputs": [
    {
     "name": "stdout",
     "output_type": "stream",
     "text": [
      "WARNING:tensorflow:From /usr/lib/python3.7/site-packages/tensorflow/python/ops/math_grad.py:1250: add_dispatch_support.<locals>.wrapper (from tensorflow.python.ops.array_ops) is deprecated and will be removed in a future version.\n",
      "Instructions for updating:\n",
      "Use tf.where in 2.0, which has the same broadcast rule as np.where\n",
      "Epoch 1/150\n",
      "127/127 [==============================] - 136s 1s/step - loss: 2.1785 - acc: 0.1756 - val_loss: 2.0834 - val_acc: 0.2567\n",
      "Epoch 2/150\n",
      "127/127 [==============================] - 72s 563ms/step - loss: 1.8100 - acc: 0.3291 - val_loss: 1.6332 - val_acc: 0.4216\n",
      "Epoch 3/150\n",
      "127/127 [==============================] - 74s 586ms/step - loss: 1.4522 - acc: 0.4953 - val_loss: 1.1631 - val_acc: 0.5890\n",
      "Epoch 4/150\n",
      "127/127 [==============================] - 74s 579ms/step - loss: 1.1902 - acc: 0.5987 - val_loss: 1.0421 - val_acc: 0.6297\n",
      "Epoch 5/150\n",
      "127/127 [==============================] - 75s 588ms/step - loss: 0.9541 - acc: 0.6720 - val_loss: 0.8428 - val_acc: 0.7112\n",
      "Epoch 6/150\n",
      "127/127 [==============================] - 77s 602ms/step - loss: 0.8408 - acc: 0.7184 - val_loss: 0.7377 - val_acc: 0.7323\n",
      "Epoch 7/150\n",
      "127/127 [==============================] - 77s 604ms/step - loss: 0.7218 - acc: 0.7612 - val_loss: 0.6043 - val_acc: 0.8009\n",
      "Epoch 8/150\n",
      "127/127 [==============================] - 72s 569ms/step - loss: 0.6439 - acc: 0.7883 - val_loss: 0.5622 - val_acc: 0.8205\n",
      "Epoch 9/150\n",
      "127/127 [==============================] - 73s 571ms/step - loss: 0.5490 - acc: 0.8173 - val_loss: 0.4714 - val_acc: 0.8469\n",
      "Epoch 10/150\n",
      "127/127 [==============================] - 72s 570ms/step - loss: 0.5041 - acc: 0.8319 - val_loss: 0.6034 - val_acc: 0.7986\n",
      "Epoch 11/150\n",
      "127/127 [==============================] - 73s 573ms/step - loss: 0.4775 - acc: 0.8432 - val_loss: 0.4757 - val_acc: 0.8514\n",
      "Epoch 12/150\n",
      "127/127 [==============================] - 72s 566ms/step - loss: 0.4338 - acc: 0.8543 - val_loss: 0.4530 - val_acc: 0.8605\n",
      "Epoch 13/150\n",
      "127/127 [==============================] - 73s 571ms/step - loss: 0.3648 - acc: 0.8734 - val_loss: 0.4734 - val_acc: 0.8514\n",
      "Epoch 14/150\n",
      "127/127 [==============================] - 72s 570ms/step - loss: 0.3647 - acc: 0.8780 - val_loss: 0.4932 - val_acc: 0.8379\n",
      "Epoch 15/150\n",
      "127/127 [==============================] - 72s 568ms/step - loss: 0.3111 - acc: 0.8912 - val_loss: 0.3800 - val_acc: 0.8778\n",
      "Epoch 16/150\n",
      "127/127 [==============================] - 72s 569ms/step - loss: 0.3250 - acc: 0.8929 - val_loss: 0.4225 - val_acc: 0.8756\n",
      "Epoch 17/150\n",
      "127/127 [==============================] - 72s 566ms/step - loss: 0.3062 - acc: 0.8958 - val_loss: 0.3770 - val_acc: 0.8778\n",
      "Epoch 18/150\n",
      "127/127 [==============================] - 72s 568ms/step - loss: 0.2873 - acc: 0.9079 - val_loss: 0.4303 - val_acc: 0.8635\n",
      "Epoch 19/150\n",
      "127/127 [==============================] - 72s 570ms/step - loss: 0.2447 - acc: 0.9144 - val_loss: 0.4056 - val_acc: 0.8869\n",
      "Epoch 20/150\n",
      "127/127 [==============================] - 72s 565ms/step - loss: 0.2542 - acc: 0.9145 - val_loss: 0.3513 - val_acc: 0.9027\n",
      "Epoch 21/150\n",
      "127/127 [==============================] - 72s 569ms/step - loss: 0.2118 - acc: 0.9260 - val_loss: 0.3592 - val_acc: 0.8967\n",
      "Epoch 22/150\n",
      "127/127 [==============================] - 72s 567ms/step - loss: 0.2290 - acc: 0.9184 - val_loss: 0.3922 - val_acc: 0.8899\n",
      "Epoch 23/150\n",
      "127/127 [==============================] - 72s 568ms/step - loss: 0.2221 - acc: 0.9252 - val_loss: 0.3599 - val_acc: 0.8952\n",
      "Epoch 24/150\n",
      "127/127 [==============================] - 72s 568ms/step - loss: 0.2136 - acc: 0.9299 - val_loss: 0.3766 - val_acc: 0.8989\n",
      "Epoch 25/150\n",
      "127/127 [==============================] - 72s 567ms/step - loss: 0.2101 - acc: 0.9323 - val_loss: 0.3581 - val_acc: 0.8891\n",
      "Epoch 26/150\n",
      "127/127 [==============================] - 73s 574ms/step - loss: 0.2045 - acc: 0.9316 - val_loss: 0.4307 - val_acc: 0.8839\n",
      "Epoch 27/150\n",
      "127/127 [==============================] - 73s 575ms/step - loss: 0.1977 - acc: 0.9395 - val_loss: 0.3298 - val_acc: 0.9042\n",
      "Epoch 28/150\n",
      "127/127 [==============================] - 74s 580ms/step - loss: 0.1637 - acc: 0.9439 - val_loss: 0.3019 - val_acc: 0.9155\n",
      "Epoch 29/150\n",
      "127/127 [==============================] - 88s 696ms/step - loss: 0.1906 - acc: 0.9334 - val_loss: 0.3469 - val_acc: 0.8982\n",
      "Epoch 30/150\n",
      "127/127 [==============================] - 91s 717ms/step - loss: 0.1637 - acc: 0.9451 - val_loss: 0.3927 - val_acc: 0.8974\n",
      "Epoch 31/150\n",
      "127/127 [==============================] - 95s 750ms/step - loss: 0.1661 - acc: 0.9464 - val_loss: 0.4045 - val_acc: 0.9035\n",
      "Epoch 32/150\n",
      "127/127 [==============================] - 82s 646ms/step - loss: 0.1461 - acc: 0.9525 - val_loss: 0.3981 - val_acc: 0.9050\n",
      "Epoch 33/150\n",
      "127/127 [==============================] - 86s 673ms/step - loss: 0.1597 - acc: 0.9478 - val_loss: 0.3894 - val_acc: 0.8914\n",
      "Epoch 34/150\n",
      "127/127 [==============================] - 83s 656ms/step - loss: 0.1444 - acc: 0.9525 - val_loss: 0.3384 - val_acc: 0.9110\n",
      "Epoch 35/150\n",
      "127/127 [==============================] - 76s 600ms/step - loss: 0.1481 - acc: 0.9471 - val_loss: 0.4708 - val_acc: 0.8876\n",
      "Epoch 36/150\n",
      "127/127 [==============================] - 125s 985ms/step - loss: 0.1417 - acc: 0.9525 - val_loss: 0.3403 - val_acc: 0.9095\n",
      "Epoch 37/150\n",
      "127/127 [==============================] - 76s 601ms/step - loss: 0.1433 - acc: 0.9513 - val_loss: 0.3692 - val_acc: 0.8982\n",
      "Epoch 38/150\n",
      "127/127 [==============================] - 82s 647ms/step - loss: 0.1247 - acc: 0.9588 - val_loss: 0.3332 - val_acc: 0.9208\n",
      "Epoch 39/150\n",
      "127/127 [==============================] - 77s 607ms/step - loss: 0.1479 - acc: 0.9528 - val_loss: 0.4403 - val_acc: 0.9035\n",
      "Epoch 40/150\n",
      "127/127 [==============================] - 70s 554ms/step - loss: 0.1715 - acc: 0.9427 - val_loss: 0.2961 - val_acc: 0.9208\n",
      "Epoch 41/150\n",
      "127/127 [==============================] - 71s 560ms/step - loss: 0.1442 - acc: 0.9525 - val_loss: 0.4138 - val_acc: 0.9125\n",
      "Epoch 42/150\n",
      "127/127 [==============================] - 71s 561ms/step - loss: 0.1315 - acc: 0.9540 - val_loss: 0.4054 - val_acc: 0.8997\n",
      "Epoch 43/150\n",
      "127/127 [==============================] - 70s 554ms/step - loss: 0.1589 - acc: 0.9515 - val_loss: 0.3625 - val_acc: 0.9170\n",
      "Epoch 44/150\n",
      "127/127 [==============================] - 71s 557ms/step - loss: 0.1265 - acc: 0.9589 - val_loss: 0.3773 - val_acc: 0.9137\n",
      "Epoch 45/150\n",
      "127/127 [==============================] - 71s 557ms/step - loss: 0.1342 - acc: 0.9541 - val_loss: 0.3690 - val_acc: 0.9133\n",
      "Epoch 46/150\n",
      "127/127 [==============================] - 71s 562ms/step - loss: 0.1396 - acc: 0.9552 - val_loss: 0.4168 - val_acc: 0.9087\n",
      "Epoch 47/150\n",
      "127/127 [==============================] - 70s 554ms/step - loss: 0.1199 - acc: 0.9632 - val_loss: 0.3622 - val_acc: 0.9148\n",
      "Epoch 48/150\n",
      "127/127 [==============================] - 71s 558ms/step - loss: 0.1075 - acc: 0.9613 - val_loss: 0.3659 - val_acc: 0.9193\n",
      "Epoch 49/150\n",
      "127/127 [==============================] - 72s 563ms/step - loss: 0.1180 - acc: 0.9636 - val_loss: 0.3521 - val_acc: 0.9178\n",
      "Epoch 50/150\n",
      "127/127 [==============================] - 71s 559ms/step - loss: 0.1257 - acc: 0.9582 - val_loss: 0.3490 - val_acc: 0.9208\n",
      "Epoch 51/150\n",
      "127/127 [==============================] - 71s 559ms/step - loss: 0.1387 - acc: 0.9596 - val_loss: 0.4569 - val_acc: 0.9050\n",
      "Epoch 52/150\n",
      "127/127 [==============================] - 71s 557ms/step - loss: 0.1079 - acc: 0.9641 - val_loss: 0.3329 - val_acc: 0.9186\n",
      "Epoch 53/150\n",
      "127/127 [==============================] - 71s 559ms/step - loss: 0.1136 - acc: 0.9652 - val_loss: 0.4361 - val_acc: 0.9057\n",
      "Epoch 54/150\n",
      "127/127 [==============================] - 73s 573ms/step - loss: 0.1105 - acc: 0.9642 - val_loss: 0.3613 - val_acc: 0.9155\n",
      "Epoch 55/150\n",
      "127/127 [==============================] - 70s 549ms/step - loss: 0.1057 - acc: 0.9658 - val_loss: 0.3993 - val_acc: 0.9186\n",
      "Epoch 56/150\n",
      "127/127 [==============================] - 70s 547ms/step - loss: 0.1047 - acc: 0.9648 - val_loss: 0.3887 - val_acc: 0.9005\n",
      "Epoch 57/150\n",
      "127/127 [==============================] - 69s 544ms/step - loss: 0.1323 - acc: 0.9573 - val_loss: 0.3760 - val_acc: 0.9103\n",
      "Epoch 58/150\n",
      "127/127 [==============================] - 70s 549ms/step - loss: 0.1366 - acc: 0.9579 - val_loss: 0.3556 - val_acc: 0.9178\n",
      "Epoch 59/150\n",
      "127/127 [==============================] - 69s 547ms/step - loss: 0.1007 - acc: 0.9673 - val_loss: 0.3922 - val_acc: 0.9140\n",
      "Epoch 60/150\n",
      "127/127 [==============================] - 69s 541ms/step - loss: 0.1318 - acc: 0.9600 - val_loss: 0.4001 - val_acc: 0.9118\n",
      "Epoch 61/150\n",
      "127/127 [==============================] - 70s 548ms/step - loss: 0.1183 - acc: 0.9621 - val_loss: 0.3984 - val_acc: 0.9103\n",
      "Epoch 62/150\n",
      "127/127 [==============================] - 69s 545ms/step - loss: 0.1107 - acc: 0.9660 - val_loss: 0.3590 - val_acc: 0.9268\n",
      "Epoch 63/150\n",
      "127/127 [==============================] - 71s 556ms/step - loss: 0.1172 - acc: 0.9643 - val_loss: 0.4503 - val_acc: 0.8989\n",
      "Epoch 64/150\n",
      "127/127 [==============================] - 70s 551ms/step - loss: 0.0919 - acc: 0.9696 - val_loss: 0.3857 - val_acc: 0.9216\n",
      "Epoch 65/150\n",
      "127/127 [==============================] - 70s 551ms/step - loss: 0.1272 - acc: 0.9641 - val_loss: 0.3171 - val_acc: 0.9065\n",
      "Epoch 66/150\n",
      "127/127 [==============================] - 71s 557ms/step - loss: 0.0844 - acc: 0.9727 - val_loss: 0.4970 - val_acc: 0.8906\n",
      "Epoch 67/150\n",
      "127/127 [==============================] - 70s 553ms/step - loss: 0.1357 - acc: 0.9577 - val_loss: 0.3295 - val_acc: 0.9231\n",
      "Epoch 68/150\n",
      "127/127 [==============================] - 70s 555ms/step - loss: 0.1068 - acc: 0.9633 - val_loss: 0.4894 - val_acc: 0.9035\n",
      "Epoch 69/150\n",
      "127/127 [==============================] - 71s 561ms/step - loss: 0.1164 - acc: 0.9648 - val_loss: 0.3701 - val_acc: 0.9186\n",
      "Epoch 70/150\n",
      "127/127 [==============================] - 71s 555ms/step - loss: 0.1118 - acc: 0.9648 - val_loss: 0.4876 - val_acc: 0.9012\n",
      "Epoch 71/150\n",
      "127/127 [==============================] - 71s 556ms/step - loss: 0.1177 - acc: 0.9636 - val_loss: 0.4127 - val_acc: 0.8982\n",
      "Epoch 72/150\n",
      "127/127 [==============================] - 71s 557ms/step - loss: 0.0940 - acc: 0.9692 - val_loss: 0.3278 - val_acc: 0.9223\n",
      "Epoch 73/150\n",
      "127/127 [==============================] - 71s 556ms/step - loss: 0.0923 - acc: 0.9712 - val_loss: 0.5145 - val_acc: 0.8929\n",
      "Epoch 74/150\n",
      "127/127 [==============================] - 70s 554ms/step - loss: 0.0941 - acc: 0.9667 - val_loss: 0.3650 - val_acc: 0.9186\n",
      "Epoch 75/150\n",
      "127/127 [==============================] - 71s 556ms/step - loss: 0.1020 - acc: 0.9669 - val_loss: 0.3513 - val_acc: 0.9087\n",
      "Epoch 76/150\n",
      "127/127 [==============================] - 71s 557ms/step - loss: 0.0747 - acc: 0.9776 - val_loss: 0.4470 - val_acc: 0.9035\n",
      "Epoch 77/150\n",
      "127/127 [==============================] - 71s 556ms/step - loss: 0.1274 - acc: 0.9598 - val_loss: 0.3618 - val_acc: 0.9291\n",
      "Epoch 78/150\n",
      "127/127 [==============================] - 71s 558ms/step - loss: 0.0907 - acc: 0.9712 - val_loss: 0.4108 - val_acc: 0.9208\n",
      "Epoch 79/150\n",
      "127/127 [==============================] - 71s 557ms/step - loss: 0.0990 - acc: 0.9692 - val_loss: 0.3700 - val_acc: 0.9238\n",
      "Epoch 80/150\n",
      "127/127 [==============================] - 71s 558ms/step - loss: 0.0700 - acc: 0.9774 - val_loss: 0.4965 - val_acc: 0.9133\n",
      "Epoch 81/150\n",
      "127/127 [==============================] - 70s 550ms/step - loss: 0.1140 - acc: 0.9685 - val_loss: 0.4072 - val_acc: 0.9095\n",
      "Epoch 82/150\n",
      "127/127 [==============================] - 73s 571ms/step - loss: 0.0798 - acc: 0.9742 - val_loss: 0.4158 - val_acc: 0.9133\n",
      "Epoch 83/150\n",
      "127/127 [==============================] - 85s 667ms/step - loss: 0.0923 - acc: 0.9712 - val_loss: 0.4431 - val_acc: 0.9118\n",
      "Epoch 84/150\n",
      "127/127 [==============================] - 74s 580ms/step - loss: 0.1132 - acc: 0.9670 - val_loss: 0.3278 - val_acc: 0.9261\n",
      "Epoch 85/150\n",
      "127/127 [==============================] - 73s 572ms/step - loss: 0.0953 - acc: 0.9733 - val_loss: 0.4393 - val_acc: 0.9155\n",
      "Epoch 86/150\n",
      "127/127 [==============================] - 73s 576ms/step - loss: 0.1268 - acc: 0.9621 - val_loss: 0.4023 - val_acc: 0.9216\n",
      "Epoch 87/150\n",
      "127/127 [==============================] - 74s 580ms/step - loss: 0.1058 - acc: 0.9679 - val_loss: 0.3462 - val_acc: 0.9263\n",
      "Epoch 88/150\n",
      "127/127 [==============================] - 76s 600ms/step - loss: 0.0972 - acc: 0.9691 - val_loss: 0.3495 - val_acc: 0.9231\n",
      "Epoch 89/150\n",
      "127/127 [==============================] - 76s 595ms/step - loss: 0.0789 - acc: 0.9761 - val_loss: 0.3625 - val_acc: 0.9284\n",
      "Epoch 90/150\n",
      "127/127 [==============================] - 74s 582ms/step - loss: 0.0971 - acc: 0.9675 - val_loss: 0.4295 - val_acc: 0.9110\n",
      "Epoch 91/150\n",
      "127/127 [==============================] - 81s 634ms/step - loss: 0.0985 - acc: 0.9706 - val_loss: 0.2964 - val_acc: 0.9367\n",
      "Epoch 92/150\n",
      "127/127 [==============================] - 80s 626ms/step - loss: 0.0888 - acc: 0.9701 - val_loss: 0.4049 - val_acc: 0.9238\n",
      "Epoch 93/150\n",
      "127/127 [==============================] - 83s 657ms/step - loss: 0.0752 - acc: 0.9759 - val_loss: 0.3326 - val_acc: 0.9246\n",
      "Epoch 94/150\n",
      "127/127 [==============================] - 90s 709ms/step - loss: 0.0664 - acc: 0.9818 - val_loss: 0.3739 - val_acc: 0.9276\n",
      "Epoch 95/150\n",
      "127/127 [==============================] - 77s 607ms/step - loss: 0.1121 - acc: 0.9685 - val_loss: 0.3617 - val_acc: 0.9253\n",
      "Epoch 96/150\n",
      "127/127 [==============================] - 88s 693ms/step - loss: 0.1114 - acc: 0.9677 - val_loss: 0.3482 - val_acc: 0.9268\n",
      "Epoch 97/150\n",
      "127/127 [==============================] - 85s 667ms/step - loss: 0.0858 - acc: 0.9717 - val_loss: 0.3790 - val_acc: 0.9178\n",
      "Epoch 98/150\n",
      "127/127 [==============================] - 94s 738ms/step - loss: 0.0717 - acc: 0.9783 - val_loss: 0.3283 - val_acc: 0.9329\n",
      "Epoch 99/150\n",
      "127/127 [==============================] - 80s 630ms/step - loss: 0.0832 - acc: 0.9769 - val_loss: 0.3271 - val_acc: 0.9268\n",
      "Epoch 100/150\n",
      "127/127 [==============================] - 84s 664ms/step - loss: 0.1921 - acc: 0.9553 - val_loss: 0.3367 - val_acc: 0.9223\n",
      "Epoch 101/150\n",
      "127/127 [==============================] - 89s 703ms/step - loss: 0.1033 - acc: 0.9707 - val_loss: 0.3651 - val_acc: 0.9216\n",
      "Epoch 102/150\n",
      "127/127 [==============================] - 90s 712ms/step - loss: 0.0930 - acc: 0.9759 - val_loss: 0.3389 - val_acc: 0.9216\n",
      "Epoch 103/150\n",
      "127/127 [==============================] - 87s 684ms/step - loss: 0.0671 - acc: 0.9798 - val_loss: 0.3568 - val_acc: 0.9314\n",
      "Epoch 104/150\n",
      "127/127 [==============================] - 105s 828ms/step - loss: 0.0758 - acc: 0.9750 - val_loss: 0.5204 - val_acc: 0.9012\n",
      "Epoch 105/150\n",
      "127/127 [==============================] - 91s 713ms/step - loss: 0.0853 - acc: 0.9781 - val_loss: 0.3145 - val_acc: 0.9253\n",
      "Epoch 106/150\n",
      "127/127 [==============================] - 78s 617ms/step - loss: 0.0729 - acc: 0.9798 - val_loss: 0.3509 - val_acc: 0.9208\n",
      "Epoch 107/150\n",
      "127/127 [==============================] - 73s 575ms/step - loss: 0.0731 - acc: 0.9796 - val_loss: 0.3760 - val_acc: 0.9246\n",
      "Epoch 108/150\n",
      "127/127 [==============================] - 75s 591ms/step - loss: 0.0785 - acc: 0.9771 - val_loss: 0.3950 - val_acc: 0.9050\n",
      "Epoch 109/150\n",
      "127/127 [==============================] - 74s 586ms/step - loss: 0.0794 - acc: 0.9766 - val_loss: 0.4372 - val_acc: 0.9208\n",
      "Epoch 110/150\n",
      "127/127 [==============================] - 78s 612ms/step - loss: 0.1016 - acc: 0.9724 - val_loss: 0.4055 - val_acc: 0.9027\n",
      "Epoch 111/150\n",
      "127/127 [==============================] - 110s 867ms/step - loss: 0.0818 - acc: 0.9756 - val_loss: 0.4836 - val_acc: 0.9148\n",
      "Epoch 112/150\n",
      "127/127 [==============================] - 82s 643ms/step - loss: 0.0931 - acc: 0.9718 - val_loss: 0.3176 - val_acc: 0.9163\n",
      "Epoch 113/150\n",
      "127/127 [==============================] - 110s 868ms/step - loss: 0.0997 - acc: 0.9716 - val_loss: 0.4078 - val_acc: 0.9140\n",
      "Epoch 114/150\n",
      "127/127 [==============================] - 83s 657ms/step - loss: 0.1025 - acc: 0.9694 - val_loss: 0.3820 - val_acc: 0.9253\n",
      "Epoch 115/150\n",
      "127/127 [==============================] - 74s 583ms/step - loss: 0.1119 - acc: 0.9686 - val_loss: 0.3999 - val_acc: 0.9186\n",
      "Epoch 116/150\n",
      "127/127 [==============================] - 74s 584ms/step - loss: 0.0847 - acc: 0.9781 - val_loss: 0.3861 - val_acc: 0.9193\n",
      "Epoch 117/150\n",
      "127/127 [==============================] - 73s 577ms/step - loss: 0.0936 - acc: 0.9710 - val_loss: 0.4110 - val_acc: 0.9163\n"
     ]
    },
    {
     "name": "stdout",
     "output_type": "stream",
     "text": [
      "Epoch 118/150\n",
      "127/127 [==============================] - 74s 580ms/step - loss: 0.0740 - acc: 0.9806 - val_loss: 0.4301 - val_acc: 0.9133\n",
      "Epoch 119/150\n",
      "127/127 [==============================] - 73s 577ms/step - loss: 0.1025 - acc: 0.9754 - val_loss: 0.4363 - val_acc: 0.9118\n",
      "Epoch 120/150\n",
      "127/127 [==============================] - 74s 583ms/step - loss: 0.1116 - acc: 0.9685 - val_loss: 0.4249 - val_acc: 0.9140\n",
      "Epoch 121/150\n",
      "127/127 [==============================] - 74s 579ms/step - loss: 0.1165 - acc: 0.9670 - val_loss: 0.3644 - val_acc: 0.9193\n",
      "Epoch 122/150\n",
      "127/127 [==============================] - 73s 578ms/step - loss: 0.0579 - acc: 0.9835 - val_loss: 0.3591 - val_acc: 0.9246\n",
      "Epoch 123/150\n",
      "127/127 [==============================] - 73s 578ms/step - loss: 0.0733 - acc: 0.9803 - val_loss: 0.4595 - val_acc: 0.9155\n",
      "Epoch 124/150\n",
      "127/127 [==============================] - 74s 581ms/step - loss: 0.0792 - acc: 0.9771 - val_loss: 0.4293 - val_acc: 0.9103\n",
      "Epoch 125/150\n",
      "127/127 [==============================] - 80s 630ms/step - loss: 0.0836 - acc: 0.9779 - val_loss: 0.3722 - val_acc: 0.9216\n",
      "Epoch 126/150\n",
      "127/127 [==============================] - 83s 653ms/step - loss: 0.0809 - acc: 0.9728 - val_loss: 0.4437 - val_acc: 0.9163\n",
      "Epoch 127/150\n",
      "127/127 [==============================] - 83s 653ms/step - loss: 0.0991 - acc: 0.9727 - val_loss: 0.3589 - val_acc: 0.9133\n",
      "Epoch 128/150\n",
      "127/127 [==============================] - 83s 656ms/step - loss: 0.1242 - acc: 0.9705 - val_loss: 0.4002 - val_acc: 0.9193\n",
      "Epoch 129/150\n",
      "127/127 [==============================] - 84s 658ms/step - loss: 0.0689 - acc: 0.9801 - val_loss: 0.3641 - val_acc: 0.9261\n",
      "Epoch 130/150\n",
      "127/127 [==============================] - 79s 620ms/step - loss: 0.0719 - acc: 0.9774 - val_loss: 0.4000 - val_acc: 0.9204\n",
      "Epoch 131/150\n",
      "127/127 [==============================] - 71s 555ms/step - loss: 0.0831 - acc: 0.9739 - val_loss: 0.4318 - val_acc: 0.9140\n",
      "Epoch 132/150\n",
      "127/127 [==============================] - 71s 557ms/step - loss: 0.1083 - acc: 0.9739 - val_loss: 0.4041 - val_acc: 0.9178\n",
      "Epoch 133/150\n",
      "127/127 [==============================] - 71s 561ms/step - loss: 0.0701 - acc: 0.9779 - val_loss: 0.3807 - val_acc: 0.9223\n",
      "Epoch 134/150\n",
      "127/127 [==============================] - 73s 572ms/step - loss: 0.1082 - acc: 0.9732 - val_loss: 0.3927 - val_acc: 0.9193\n",
      "Epoch 135/150\n",
      "127/127 [==============================] - 71s 559ms/step - loss: 0.1060 - acc: 0.9732 - val_loss: 0.4487 - val_acc: 0.9080\n",
      "Epoch 136/150\n",
      "127/127 [==============================] - 71s 559ms/step - loss: 0.0938 - acc: 0.9742 - val_loss: 0.4115 - val_acc: 0.9246\n",
      "Epoch 137/150\n",
      "127/127 [==============================] - 71s 560ms/step - loss: 0.0810 - acc: 0.9760 - val_loss: 0.3858 - val_acc: 0.9231\n",
      "Epoch 138/150\n",
      "127/127 [==============================] - 71s 558ms/step - loss: 0.0671 - acc: 0.9774 - val_loss: 0.3395 - val_acc: 0.9284\n",
      "Epoch 139/150\n",
      "127/127 [==============================] - 79s 623ms/step - loss: 0.0563 - acc: 0.9865 - val_loss: 0.4156 - val_acc: 0.9253\n",
      "Epoch 140/150\n",
      "127/127 [==============================] - 70s 550ms/step - loss: 0.0580 - acc: 0.9829 - val_loss: 0.3633 - val_acc: 0.9299\n",
      "Epoch 141/150\n",
      "127/127 [==============================] - 74s 585ms/step - loss: 0.0706 - acc: 0.9776 - val_loss: 0.3445 - val_acc: 0.9329\n",
      "Epoch 142/150\n",
      "127/127 [==============================] - 91s 718ms/step - loss: 0.0668 - acc: 0.9800 - val_loss: 0.4969 - val_acc: 0.9140\n",
      "Epoch 143/150\n",
      "127/127 [==============================] - 87s 681ms/step - loss: 0.1003 - acc: 0.9747 - val_loss: 0.3166 - val_acc: 0.9246\n",
      "Epoch 144/150\n",
      "127/127 [==============================] - 69s 547ms/step - loss: 0.0829 - acc: 0.9761 - val_loss: 0.4076 - val_acc: 0.9253\n",
      "Epoch 145/150\n",
      "127/127 [==============================] - 74s 586ms/step - loss: 0.0847 - acc: 0.9775 - val_loss: 0.4424 - val_acc: 0.9087\n",
      "Epoch 146/150\n",
      "127/127 [==============================] - 90s 709ms/step - loss: 0.1308 - acc: 0.9647 - val_loss: 0.3954 - val_acc: 0.9284\n",
      "Epoch 147/150\n",
      "127/127 [==============================] - 82s 648ms/step - loss: 0.0929 - acc: 0.9739 - val_loss: 0.4803 - val_acc: 0.9193\n",
      "Epoch 148/150\n",
      "127/127 [==============================] - 98s 773ms/step - loss: 0.1016 - acc: 0.9728 - val_loss: 0.3172 - val_acc: 0.9306\n",
      "Epoch 149/150\n",
      "127/127 [==============================] - 86s 677ms/step - loss: 0.0950 - acc: 0.9744 - val_loss: 0.4005 - val_acc: 0.9208\n",
      "Epoch 150/150\n",
      "127/127 [==============================] - 97s 762ms/step - loss: 0.0996 - acc: 0.9748 - val_loss: 0.5229 - val_acc: 0.9163\n"
     ]
    },
    {
     "data": {
      "text/plain": [
       "[0.44749876764780355, 0.921875]"
      ]
     },
     "execution_count": 16,
     "metadata": {},
     "output_type": "execute_result"
    }
   ],
   "source": [
    "step_size_train = train_generator.n//train_generator.batch_size\n",
    "step_size_validation = valid_generator.n//valid_generator.batch_size\n",
    "\n",
    "model.fit_generator(generator=train_generator, \n",
    "                    steps_per_epoch=step_size_train, \n",
    "                    validation_data=valid_generator, \n",
    "                    validation_steps=step_size_validation, \n",
    "                    epochs=150\n",
    "                   )\n",
    "\n",
    "model.evaluate_generator(generator=valid_generator, steps=step_size_validation)"
   ]
  },
  {
   "cell_type": "code",
   "execution_count": 3,
   "metadata": {},
   "outputs": [
    {
     "name": "stdout",
     "output_type": "stream",
     "text": [
      "WARNING:tensorflow:From /usr/lib64/python3.7/site-packages/keras/backend/tensorflow_backend.py:541: The name tf.placeholder is deprecated. Please use tf.compat.v1.placeholder instead.\n",
      "\n",
      "WARNING:tensorflow:From /usr/lib64/python3.7/site-packages/keras/backend/tensorflow_backend.py:4432: The name tf.random_uniform is deprecated. Please use tf.random.uniform instead.\n",
      "\n",
      "WARNING:tensorflow:From /usr/lib64/python3.7/site-packages/keras/backend/tensorflow_backend.py:4267: The name tf.nn.max_pool is deprecated. Please use tf.nn.max_pool2d instead.\n",
      "\n",
      "WARNING:tensorflow:From /usr/lib64/python3.7/site-packages/keras/backend/tensorflow_backend.py:66: The name tf.get_default_graph is deprecated. Please use tf.compat.v1.get_default_graph instead.\n",
      "\n",
      "WARNING:tensorflow:From /usr/lib64/python3.7/site-packages/keras/backend/tensorflow_backend.py:148: The name tf.placeholder_with_default is deprecated. Please use tf.compat.v1.placeholder_with_default instead.\n",
      "\n",
      "WARNING:tensorflow:From /usr/lib64/python3.7/site-packages/keras/backend/tensorflow_backend.py:3733: calling dropout (from tensorflow.python.ops.nn_ops) with keep_prob is deprecated and will be removed in a future version.\n",
      "Instructions for updating:\n",
      "Please use `rate` instead of `keep_prob`. Rate should be set to `rate = 1 - keep_prob`.\n",
      "WARNING:tensorflow:From /usr/lib64/python3.7/site-packages/keras/backend/tensorflow_backend.py:190: The name tf.get_default_session is deprecated. Please use tf.compat.v1.get_default_session instead.\n",
      "\n",
      "WARNING:tensorflow:From /usr/lib64/python3.7/site-packages/keras/optimizers.py:793: The name tf.train.Optimizer is deprecated. Please use tf.compat.v1.train.Optimizer instead.\n",
      "\n",
      "WARNING:tensorflow:From /usr/lib/python3.7/site-packages/tensorflow/python/ops/math_grad.py:1250: add_dispatch_support.<locals>.wrapper (from tensorflow.python.ops.array_ops) is deprecated and will be removed in a future version.\n",
      "Instructions for updating:\n",
      "Use tf.where in 2.0, which has the same broadcast rule as np.where\n"
     ]
    }
   ],
   "source": [
    "from keras.models import load_model\n",
    "# model.save('model.h5')\n",
    "# print(\"Model Saved\")\n",
    "model = load_model('model.h5')"
   ]
  },
  {
   "cell_type": "code",
   "execution_count": 15,
   "metadata": {},
   "outputs": [
    {
     "name": "stdout",
     "output_type": "stream",
     "text": [
      "Found 3297 validated image filenames.\n"
     ]
    }
   ],
   "source": [
    "# x_col takes in the file name\n",
    "test_datagen = ImageDataGenerator(rescale=1./255.)\n",
    "test_generator = test_datagen.flow_from_dataframe(dataframe=test_data, \n",
    "                                                  directory='Spectrograms/Test/', \n",
    "                                                  x_col='File', \n",
    "                                                  y_col=None, \n",
    "                                                  batch_size=32, \n",
    "                                                  seed=42, \n",
    "                                                  shuffle=False, \n",
    "                                                  class_mode=None, \n",
    "                                                  target_size=(64,64))\n",
    "\n",
    "step_size_test = test_generator.n//test_generator.batch_size"
   ]
  },
  {
   "cell_type": "code",
   "execution_count": 24,
   "metadata": {
    "scrolled": true
   },
   "outputs": [
    {
     "name": "stdout",
     "output_type": "stream",
     "text": [
      "103/103 [==============================] - 14s 138ms/step\n",
      "['jackhammer', 'dog_bark', 'drilling', 'dog_bark', 'street_music', 'jackhammer']\n"
     ]
    }
   ],
   "source": [
    "test_generator.reset()\n",
    "pred = model.predict_generator(test_generator, steps=step_size_test, verbose=1)\n",
    "\n",
    "predicted_class_indices = np.argmax(pred, axis=1)\n",
    "\n",
    "#Fetch labels from train gen for testing\n",
    "labels = (train_generator.class_indices)\n",
    "labels = dict((j, i) for (i, j) in labels.items())\n",
    "predictions = [labels[i] for i in predicted_class_indices]\n",
    "print(predictions[:6])"
   ]
  },
  {
   "cell_type": "code",
   "execution_count": 19,
   "metadata": {},
   "outputs": [
    {
     "data": {
      "text/plain": [
       "['jackhammer',\n",
       " 'dog_bark',\n",
       " 'drilling',\n",
       " 'dog_bark',\n",
       " 'street_music',\n",
       " 'jackhammer',\n",
       " 'air_conditioner',\n",
       " 'children_playing',\n",
       " 'dog_bark',\n",
       " 'drilling']"
      ]
     },
     "execution_count": 19,
     "metadata": {},
     "output_type": "execute_result"
    }
   ],
   "source": [
    "predictions[:10]"
   ]
  },
  {
   "cell_type": "code",
   "execution_count": 20,
   "metadata": {},
   "outputs": [
    {
     "data": {
      "text/plain": [
       "{0: 'air_conditioner',\n",
       " 1: 'car_horn',\n",
       " 2: 'children_playing',\n",
       " 3: 'dog_bark',\n",
       " 4: 'drilling',\n",
       " 5: 'engine_idling',\n",
       " 6: 'gun_shot',\n",
       " 7: 'jackhammer',\n",
       " 8: 'siren',\n",
       " 9: 'street_music'}"
      ]
     },
     "execution_count": 20,
     "metadata": {},
     "output_type": "execute_result"
    }
   ],
   "source": [
    "labels"
   ]
  },
  {
   "cell_type": "code",
   "execution_count": 21,
   "metadata": {},
   "outputs": [
    {
     "data": {
      "text/html": [
       "<div>\n",
       "<style scoped>\n",
       "    .dataframe tbody tr th:only-of-type {\n",
       "        vertical-align: middle;\n",
       "    }\n",
       "\n",
       "    .dataframe tbody tr th {\n",
       "        vertical-align: top;\n",
       "    }\n",
       "\n",
       "    .dataframe thead th {\n",
       "        text-align: right;\n",
       "    }\n",
       "</style>\n",
       "<table border=\"1\" class=\"dataframe\">\n",
       "  <thead>\n",
       "    <tr style=\"text-align: right;\">\n",
       "      <th></th>\n",
       "      <th>ID</th>\n",
       "      <th>Class</th>\n",
       "      <th>File</th>\n",
       "    </tr>\n",
       "  </thead>\n",
       "  <tbody>\n",
       "    <tr>\n",
       "      <th>0</th>\n",
       "      <td>0</td>\n",
       "      <td>siren</td>\n",
       "      <td>siren0.jpg</td>\n",
       "    </tr>\n",
       "    <tr>\n",
       "      <th>1</th>\n",
       "      <td>1</td>\n",
       "      <td>street_music</td>\n",
       "      <td>street_music1.jpg</td>\n",
       "    </tr>\n",
       "    <tr>\n",
       "      <th>2</th>\n",
       "      <td>2</td>\n",
       "      <td>drilling</td>\n",
       "      <td>drilling2.jpg</td>\n",
       "    </tr>\n",
       "    <tr>\n",
       "      <th>3</th>\n",
       "      <td>3</td>\n",
       "      <td>siren</td>\n",
       "      <td>siren3.jpg</td>\n",
       "    </tr>\n",
       "    <tr>\n",
       "      <th>4</th>\n",
       "      <td>4</td>\n",
       "      <td>dog_bark</td>\n",
       "      <td>dog_bark4.jpg</td>\n",
       "    </tr>\n",
       "  </tbody>\n",
       "</table>\n",
       "</div>"
      ],
      "text/plain": [
       "  ID         Class               File\n",
       "0  0         siren         siren0.jpg\n",
       "1  1  street_music  street_music1.jpg\n",
       "2  2      drilling      drilling2.jpg\n",
       "3  3         siren         siren3.jpg\n",
       "4  4      dog_bark      dog_bark4.jpg"
      ]
     },
     "execution_count": 21,
     "metadata": {},
     "output_type": "execute_result"
    }
   ],
   "source": [
    "data.head()"
   ]
  },
  {
   "cell_type": "code",
   "execution_count": 22,
   "metadata": {},
   "outputs": [
    {
     "data": {
      "text/plain": [
       "array([7, 3, 4, ..., 6, 7, 4])"
      ]
     },
     "execution_count": 22,
     "metadata": {},
     "output_type": "execute_result"
    }
   ],
   "source": [
    "predicted_class_indices"
   ]
  },
  {
   "cell_type": "code",
   "execution_count": null,
   "metadata": {},
   "outputs": [],
   "source": []
  }
 ],
 "metadata": {
  "kernelspec": {
   "display_name": "Python 3",
   "language": "python",
   "name": "python3"
  },
  "language_info": {
   "codemirror_mode": {
    "name": "ipython",
    "version": 3
   },
   "file_extension": ".py",
   "mimetype": "text/x-python",
   "name": "python",
   "nbconvert_exporter": "python",
   "pygments_lexer": "ipython3",
   "version": "3.7.3"
  }
 },
 "nbformat": 4,
 "nbformat_minor": 2
}
